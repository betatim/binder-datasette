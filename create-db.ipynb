{
 "cells": [
  {
   "cell_type": "markdown",
   "metadata": {},
   "source": [
    "# Create SQL database\n",
    "\n",
    "This creates a sqlite DB from https://archive.analytics.mybinder.org."
   ]
  },
  {
   "cell_type": "code",
   "execution_count": 1,
   "metadata": {},
   "outputs": [],
   "source": [
    "import json\n",
    "import urllib\n",
    "\n",
    "import requests\n",
    "import sqlite_utils"
   ]
  },
  {
   "cell_type": "code",
   "execution_count": 2,
   "metadata": {},
   "outputs": [],
   "source": [
    "db = sqlite_utils.Database(\"binder-launches.db\")\n",
    "\n",
    "#db[\"binder\"].drop()"
   ]
  },
  {
   "cell_type": "code",
   "execution_count": 3,
   "metadata": {},
   "outputs": [
    {
     "data": {
      "text/plain": [
       "<Table binder (timestamp, version, provider, spec, ref, origin, repo, resolved_ref, org)>"
      ]
     },
     "execution_count": 3,
     "metadata": {},
     "output_type": "execute_result"
    }
   ],
   "source": [
    "index_json = \"https://archive.analytics.mybinder.org/index.jsonl\"\n",
    "\n",
    "S = requests.Session()\n",
    "\n",
    "# make it easier to grab the ref\n",
    "def get_repo(spec):\n",
    "    s = spec.rsplit(\"/\", 1)[0]\n",
    "    if s.endswith('.git'):\n",
    "        s = s[:-4]\n",
    "    return s\n",
    "\n",
    "\n",
    "N = 0\n",
    "\n",
    "for line in reversed(requests.get(index_json).text.split(\"\\n\")):\n",
    "    if not line.strip():\n",
    "        continue\n",
    "\n",
    "    N += 1\n",
    "    #if N > 365:\n",
    "    #    break\n",
    "\n",
    "    day = json.loads(line.strip())\n",
    "    launches = S.get(\"https://archive.analytics.mybinder.org/{}\".format(day['name'])).text.split(\"\\n\")\n",
    "    \n",
    "    launches_ = []\n",
    "    for launch in launches:\n",
    "        if launch:\n",
    "            l = json.loads(launch)\n",
    "            \n",
    "            l[\"spec\"] = urllib.parse.unquote(l[\"spec\"])\n",
    "            l['repo'] = get_repo(l['spec'])\n",
    "            l[\"resolved_ref\"] = l.get(\"ref\", \"\")\n",
    "            \n",
    "            if l['provider'] not in ('GitHub', \"Gist\", \"GitLab\",\n",
    "                                     \"Git\", 'Zenodo', 'Hydroshare',\n",
    "                                     'Figshare', \"Dataverse\"):\n",
    "                print(l)\n",
    "\n",
    "            if l['provider'] == 'Hydroshare':\n",
    "                l[\"org\"] = l[\"ref\"] = None\n",
    "            elif l['provider'] in ('Zenodo', \"Figshare\", \"Dataverse\"):\n",
    "                l[\"org\"] = l[\"ref\"] = l['repo'] = None\n",
    "            else:\n",
    "                if l[\"provider\"] != \"Git\":\n",
    "                    l['org'] = l['spec'].split(\"/\", 1)[0]\n",
    "                else:\n",
    "                    l[\"org\"] = None\n",
    "\n",
    "                l['ref'] = l['spec'].rsplit(\"/\", 1)[1]\n",
    "\n",
    "            l.pop(\"schema\")\n",
    "            l.pop(\"status\")\n",
    "            \n",
    "            launches_.append(l)\n",
    "\n",
    "    db[\"binder\"].insert_all(launches_)\n",
    "    \n",
    "db['binder'].enable_fts([\"spec\", \"repo\", \"org\"])"
   ]
  },
  {
   "cell_type": "code",
   "execution_count": 4,
   "metadata": {},
   "outputs": [
    {
     "data": {
      "text/plain": [
       "<Table binder (timestamp, version, provider, spec, ref, origin, repo, resolved_ref, org)>"
      ]
     },
     "execution_count": 4,
     "metadata": {},
     "output_type": "execute_result"
    }
   ],
   "source": [
    "db['binder'].create_index([\"provider\", \"origin\", \"repo\", \"org\", \"ref\", \"resolved_ref\", \"timestamp\"])"
   ]
  },
  {
   "cell_type": "code",
   "execution_count": 5,
   "metadata": {},
   "outputs": [
    {
     "data": {
      "text/plain": [
       "<Table binder (timestamp, version, provider, spec, ref, origin, repo, resolved_ref, org)>"
      ]
     },
     "execution_count": 5,
     "metadata": {},
     "output_type": "execute_result"
    }
   ],
   "source": [
    "db['binder'].optimize()"
   ]
  },
  {
   "cell_type": "code",
   "execution_count": null,
   "metadata": {},
   "outputs": [],
   "source": []
  }
 ],
 "metadata": {
  "kernelspec": {
   "display_name": "Python 3",
   "language": "python",
   "name": "python3"
  },
  "language_info": {
   "codemirror_mode": {
    "name": "ipython",
    "version": 3
   },
   "file_extension": ".py",
   "mimetype": "text/x-python",
   "name": "python",
   "nbconvert_exporter": "python",
   "pygments_lexer": "ipython3",
   "version": "3.8.2"
  }
 },
 "nbformat": 4,
 "nbformat_minor": 4
}
